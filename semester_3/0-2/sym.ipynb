{
 "cells": [
  {
   "cell_type": "code",
   "execution_count": 40,
   "metadata": {},
   "outputs": [],
   "source": [
    "using Symbolics, Latexify, JuliaSyntax\n",
    "JuliaSyntax.enable_in_core!()"
   ]
  },
  {
   "cell_type": "code",
   "execution_count": 27,
   "metadata": {},
   "outputs": [
    {
     "data": {
      "text/plain": [
       "hermiteTerm (generic function with 1 method)"
      ]
     },
     "metadata": {},
     "output_type": "display_data"
    }
   ],
   "source": [
    "function hermiteTerm(a, b, fa, fb, dfa, dfb, t)\n",
    "    # Вычисляем нормализованное значение t на отрезке [0, 1]\n",
    "    tNorm = (t - a) / (b - a)\n",
    "    \n",
    "    # Вычисляем значения коэффициентов полинома Эрмита\n",
    "    h00 = (2 * tNorm^3) - (3 * tNorm^2) + 1\n",
    "    h10 = tNorm^3 - (2 * tNorm^2) + tNorm\n",
    "    h01 = (-2 * tNorm^3) + (3 * tNorm^2)\n",
    "    h11 = tNorm^3 - tNorm^2\n",
    "    \n",
    "   # Вычисляем значение полинома Эрмита H(t)\n",
    "   return fa*h00 + dfa*(b-a)*h10 + fb*h01 + dfb*(b-a)*h11\n",
    "end"
   ]
  },
  {
   "cell_type": "code",
   "execution_count": 28,
   "metadata": {},
   "outputs": [
    {
     "name": "stdout",
     "output_type": "stream",
     "text": [
      "\\begin{equation}\n",
      "fa \\left( 1 + 2 \\left( \\frac{5 - a}{b - a} \\right)^{3} - 3 \\left( \\frac{5 - a}{b - a} \\right)^{2} \\right) + fb \\left(  - 2 \\left( \\frac{5 - a}{b - a} \\right)^{3} + 3 \\left( \\frac{5 - a}{b - a} \\right)^{2} \\right) + dfa \\left( b - a \\right) \\left( \\frac{5 - a}{b - a} - 2 \\left( \\frac{5 - a}{b - a} \\right)^{2} + \\left( \\frac{5 - a}{b - a} \\right)^{3} \\right) + dfb \\left( b - a \\right) \\left(  - \\left( \\frac{5 - a}{b - a} \\right)^{2} + \\left( \\frac{5 - a}{b - a} \\right)^{3} \\right)\n",
      "\\end{equation}\n"
     ]
    }
   ],
   "source": [
    "@variables a b fa fb dfa dfb x\n",
    "hermiteTerm(a, b, fa, fb, dfa, dfb, 5) |> latexify |> print"
   ]
  },
  {
   "cell_type": "code",
   "execution_count": 49,
   "metadata": {},
   "outputs": [
    {
     "data": {
      "text/latex": [
       "$$ \\begin{equation}\n",
       "-0.66667 + 1.3333 x\n",
       "\\end{equation}\n",
       " $$"
      ],
      "text/plain": [
       "1.3333333333333333x - 0.6666666666666666"
      ]
     },
     "metadata": {},
     "output_type": "display_data"
    }
   ],
   "source": [
    "(x -0.5)./(1.25-0.5) |> expand"
   ]
  },
  {
   "cell_type": "code",
   "execution_count": 48,
   "metadata": {},
   "outputs": [
    {
     "ename": "UndefVarError",
     "evalue": "UndefVarError: `decompose` not defined",
     "output_type": "error",
     "traceback": [
      "UndefVarError: `decompose` not defined\n",
      "\n",
      "Stacktrace:\n",
      " [1] getproperty(x::Module, f::Symbol)\n",
      "   @ Base ./Base.jl:31\n",
      " [2] top-level scope\n",
      "   @ ~/Documents/Git/Hub/nummethpoly/semester_3/0-2/sym.ipynb:7"
     ]
    }
   ],
   "source": [
    "using Base: decompose\n",
    "x_m = [0.5, 1.25, 2]\n",
    "x_m1 = [1.25, 2, 2.75]\n",
    "\n",
    "xN = (x .-x_m)./(x_m1.-x_m)\n",
    "\n",
    "@. (2 * xN^3) - (3 * xN^2) + 1 .|> expand .|> Symbolics.decompose"
   ]
  },
  {
   "cell_type": "code",
   "execution_count": 30,
   "metadata": {},
   "outputs": [
    {
     "ename": "UndefVarError",
     "evalue": "UndefVarError: `h10` not defined",
     "output_type": "error",
     "traceback": [
      "UndefVarError: `h10` not defined\n",
      "\n",
      "Stacktrace:\n",
      " [1] top-level scope\n",
      "   @ ~/Documents/Git/Hub/nummethpoly/semester_3/0-2/sym.ipynb:2"
     ]
    }
   ],
   "source": [
    "\n",
    "@. h10 = xN^3 - (2 * xN^2) + xN\n",
    "@. h01 = (-2 * xN^3) + (3 * xN^2)\n",
    "@. h11 = xN^3 - xN^2\n"
   ]
  },
  {
   "cell_type": "code",
   "execution_count": null,
   "metadata": {},
   "outputs": [],
   "source": [
    "\n"
   ]
  },
  {
   "cell_type": "code",
   "execution_count": 8,
   "metadata": {},
   "outputs": [
    {
     "ename": "UndefVarError",
     "evalue": "UndefVarError: `ans` not defined",
     "output_type": "error",
     "traceback": [
      "UndefVarError: `ans` not defined\n",
      "\n",
      "Stacktrace:\n",
      " [1] top-level scope\n",
      "   @ ~/Documents/Git/Hub/nummethpoly/semester_3/0-2/sym.ipynb:1"
     ]
    }
   ],
   "source": [
    "ans[1]"
   ]
  }
 ],
 "metadata": {
  "kernelspec": {
   "display_name": "Julia 1.9.0",
   "language": "julia",
   "name": "julia-1.9"
  },
  "language_info": {
   "file_extension": ".jl",
   "mimetype": "application/julia",
   "name": "julia",
   "version": "1.9.0"
  },
  "orig_nbformat": 4
 },
 "nbformat": 4,
 "nbformat_minor": 2
}
